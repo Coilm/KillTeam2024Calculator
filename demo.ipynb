{
 "cells": [
  {
   "cell_type": "code",
   "execution_count": 1,
   "metadata": {},
   "outputs": [],
   "source": [
    "import KT24Calculator\n",
    "import requests\n",
    "import numpy as np\n",
    "import matplotlib.pyplot as plt\n",
    "import polars as pl\n",
    "%load_ext line_profiler"
   ]
  },
  {
   "cell_type": "code",
   "execution_count": 5,
   "metadata": {},
   "outputs": [],
   "source": [
    "req = requests.get('https://ktdash.app/api/killteam.php?edition=kt24')"
   ]
  },
  {
   "cell_type": "code",
   "execution_count": 6,
   "metadata": {},
   "outputs": [],
   "source": [
    "operativesrows = []\n",
    "\n",
    "for killteam in req.json():\n",
    "    for fireteam in killteam['fireteams']:\n",
    "        factionid = fireteam['factionid']\n",
    "        if factionid == \"HBR\":\n",
    "            continue\n",
    "        killteamid = fireteam['fireteamid']\n",
    "        killteamname = fireteam['fireteamname']\n",
    "        for op in fireteam['operatives']:\n",
    "            opid = op['opid']\n",
    "            opname = op['opname']\n",
    "            m = op['M'].replace('\"', '')\n",
    "            apl = op['APL']\n",
    "            sv = op['SV'].replace('+', '')\n",
    "            w = op['W']\n",
    "            keywords = op['keywords'].split(' , ')\n",
    "            for weapon in op['weapons']:\n",
    "                for profile in weapon['profiles']:\n",
    "                    wepid = weapon['wepid']\n",
    "                    wepname = weapon['wepname']\n",
    "                    weptype = weapon['weptype']\n",
    "                    if profile['name'] != '':\n",
    "                        wepname = wepname + ' (' + profile['name'] + ')'\n",
    "                    A = profile['A']\n",
    "                    BS = profile['BS'].replace('+', '')\n",
    "                    D, Dcrit = profile['D'].split('/')\n",
    "                    SR = profile['SR'].split(', ')\n",
    "                    operativesrows.append([factionid, killteamid, killteamname, opid, opname, m, apl, sv, w, keywords, wepid, wepname, weptype, A, BS, D, Dcrit, SR])"
   ]
  },
  {
   "cell_type": "code",
   "execution_count": 7,
   "metadata": {},
   "outputs": [],
   "source": [
    "schema = {'factionid':str, 'killteamid':str,'killteamname': str, 'opid':str, 'opname': str, 'M':pl.Int8, 'APL': pl.Int8, 'SV': pl.Int8, 'W': pl.Int8, 'keywords': list[str] ,'wepid':str, 'wepid': str, 'wepname': str, 'weptype': str, 'A': pl.Int8, 'BS': pl.Int8, 'D': pl.Int8, 'DCrit': pl.Int8, 'SR': list[str]}\n",
    "operatives = pl.DataFrame(operativesrows, orient='row', schema=schema)"
   ]
  },
  {
   "cell_type": "code",
   "execution_count": 8,
   "metadata": {},
   "outputs": [],
   "source": [
    "Tempestor_RelicBoltPistol = operatives.filter(killteamname=\"Tempestus Aquilon\", opname=\"Aquilon Tempestor\", wepname='Relic Bolt Pistol').row(0, named=True)\n",
    "Grenadier_MeltaBomb = operatives.filter(killteamname=\"Tempestus Aquilon\", opname=\"Aquilon Grenadier\", wepname='Melta Bomb').row(0, named=True)\n",
    "Gunfighter_Focused = operatives.filter(killteamname=\"Tempestus Aquilon\", opname=\"Aquilon Gunfighter\", wepname='Hot-Shot Laspistol (Focused)').row(0, named=True)\n",
    "Gunfighter_PointBlank =  operatives.filter(killteamname=\"Tempestus Aquilon\", opname=\"Aquilon Gunfighter\", wepname='Hot-Shot Laspistol (Point Blank)').row(0, named=True)\n",
    "Gunner_Melta =  operatives.filter(killteamname=\"Tempestus Aquilon\", opname=\"Aquilon Gunner\", wepname='Melta Carbine').row(0, named=True)\n",
    "Gunner_Plasma =  operatives.filter(killteamname=\"Tempestus Aquilon\", opname=\"Aquilon Gunner\", wepname='Plasma Carbine (Standard)').row(0, named=True)\n",
    "Gunner_PlasmaSuper =  operatives.filter(killteamname=\"Tempestus Aquilon\", opname=\"Aquilon Gunner\", wepname='Plasma Carbine (Supercharge)').row(0, named=True)\n",
    "Marksman_Stationary =  operatives.filter(killteamname=\"Tempestus Aquilon\", opname=\"Aquilon Marksman\", wepname='Hot-Shot Longlas (Stationary)').row(0, named=True)\n",
    "Marksman_Mobile =  operatives.filter(killteamname=\"Tempestus Aquilon\", opname=\"Aquilon Marksman\", wepname='Hot-Shot Longlas (Mobile)').row(0, named=True)\n",
    "Precursor_Mobile =  operatives.filter(killteamname=\"Tempestus Aquilon\", opname=\"Aquilon Precursor\", wepname='Hot-Shot Laspistol').row(0, named=True)\n",
    "Sentry_Flamer =  operatives.filter(killteamname=\"Tempestus Aquilon\", opname=\"Aquilon Servo-Sentry\", wepname='Flamer').row(0, named=True)\n",
    "Sentry_Frag =  operatives.filter(killteamname=\"Tempestus Aquilon\", opname=\"Aquilon Servo-Sentry\", wepname='Grenade Launcher (Frag)').row(0, named=True)\n",
    "Sentry_Krak =  operatives.filter(killteamname=\"Tempestus Aquilon\", opname=\"Aquilon Servo-Sentry\", wepname='Grenade Launcher (Krak)').row(0, named=True)\n",
    "Sentry_Focused =  operatives.filter(killteamname=\"Tempestus Aquilon\", opname=\"Aquilon Servo-Sentry\", wepname='Hot-Shot Volley Gun (Focused)').row(0, named=True)\n",
    "Sentry_sweeping =  operatives.filter(killteamname=\"Tempestus Aquilon\", opname=\"Aquilon Servo-Sentry\", wepname='Hot-Shot Volley Gun (Sweeping)').row(0, named=True)\n",
    "Trooper_Carbine =  operatives.filter(killteamname=\"Tempestus Aquilon\", opname=\"Aquilon Trooper\", wepname='Hot-Shot Lascarbine').row(0, named=True)\n",
    "\n",
    "Attackers = [Tempestor_RelicBoltPistol, Grenadier_MeltaBomb, Gunfighter_Focused, Gunfighter_PointBlank, Gunner_Melta, Gunner_Plasma, Gunner_PlasmaSuper, Marksman_Stationary, Marksman_Mobile, Precursor_Mobile, Sentry_Flamer, Sentry_Frag, Sentry_Krak, Sentry_Focused, Sentry_sweeping, Trooper_Carbine]"
   ]
  },
  {
   "cell_type": "code",
   "execution_count": 9,
   "metadata": {},
   "outputs": [],
   "source": [
    "SM_warrior =  operatives.filter(killteamname=\"Angels Of Death\", opname=\"Intercessor Warrior\", wepname='Bolt Rifle').row(0, named=True)\n",
    "Trooper_Carbine =  operatives.filter(killteamname=\"Tempestus Aquilon\", opname=\"Aquilon Trooper\", wepname='Hot-Shot Lascarbine').row(0, named=True)\n",
    "DeathKorps_Trooper =  operatives.filter(killteamname=\"Death Korps\", opname=\"Death Korps Trooper\", wepname='Lasgun').row(0, named=True)\n",
    "\n",
    "Defenders = [SM_warrior, Trooper_Carbine, DeathKorps_Trooper]"
   ]
  },
  {
   "cell_type": "code",
   "execution_count": 10,
   "metadata": {},
   "outputs": [
    {
     "ename": "TypingError",
     "evalue": "Failed in nopython mode pipeline (step: nopython frontend)\n\u001b[1m\u001b[1mnon-precise type pyobject\u001b[0m\n\u001b[0m\u001b[1mDuring: typing of argument at <string> (2)\u001b[0m\n\u001b[1m\nFile \"<string>\", line 2:\u001b[0m\n\u001b[1m<source missing, REPL/exec in use?>\u001b[0m \n\nThis error may have been caused by the following argument(s):\n- argument 0: \u001b[1mCannot determine Numba type of <class 'dict'>\u001b[0m\n",
     "output_type": "error",
     "traceback": [
      "\u001b[1;31m---------------------------------------------------------------------------\u001b[0m",
      "\u001b[1;31mTypingError\u001b[0m                               Traceback (most recent call last)",
      "Cell \u001b[1;32mIn[10], line 3\u001b[0m\n\u001b[0;32m      1\u001b[0m \u001b[38;5;28;01mfor\u001b[39;00m obscured \u001b[38;5;129;01min\u001b[39;00m [\u001b[38;5;28;01mFalse\u001b[39;00m, \u001b[38;5;28;01mTrue\u001b[39;00m]:\n\u001b[0;32m      2\u001b[0m     \u001b[38;5;28;01mfor\u001b[39;00m cover \u001b[38;5;129;01min\u001b[39;00m [\u001b[38;5;28;01mFalse\u001b[39;00m, \u001b[38;5;28;01mTrue\u001b[39;00m]:\n\u001b[1;32m----> 3\u001b[0m         sim \u001b[38;5;241m=\u001b[39m KT24Calculator\u001b[38;5;241m.\u001b[39mSimulation(Gunner_Melta, DeathKorps_Trooper, cover\u001b[38;5;241m=\u001b[39mcover, obscured\u001b[38;5;241m=\u001b[39mobscured)\n\u001b[0;32m      4\u001b[0m         sim\u001b[38;5;241m.\u001b[39mattacker\u001b[38;5;241m.\u001b[39mkeywords\u001b[38;5;241m.\u001b[39madd(\u001b[38;5;124m'\u001b[39m\u001b[38;5;124mSevere\u001b[39m\u001b[38;5;124m'\u001b[39m)\n\u001b[0;32m      5\u001b[0m         results \u001b[38;5;241m=\u001b[39m sim\u001b[38;5;241m.\u001b[39msimulation_step(\u001b[38;5;241m200000\u001b[39m)\n",
      "File \u001b[1;32me:\\Documents\\Python\\KillTeam2024Calculator\\KillTeam2024Calculator\\KT24Calculator.py:156\u001b[0m, in \u001b[0;36mSimulation.__init__\u001b[1;34m(self, offensive_profile, defensive_profile, cover, obscured)\u001b[0m\n\u001b[0;32m    155\u001b[0m \u001b[38;5;28;01mdef\u001b[39;00m \u001b[38;5;21m__init__\u001b[39m(\u001b[38;5;28mself\u001b[39m, offensive_profile, defensive_profile, cover\u001b[38;5;241m=\u001b[39m\u001b[38;5;28;01mFalse\u001b[39;00m, obscured\u001b[38;5;241m=\u001b[39m\u001b[38;5;28;01mFalse\u001b[39;00m):\n\u001b[1;32m--> 156\u001b[0m     \u001b[38;5;28mself\u001b[39m\u001b[38;5;241m.\u001b[39mattacker \u001b[38;5;241m=\u001b[39m Offensive(offensive_profile)\n\u001b[0;32m    157\u001b[0m     \u001b[38;5;28mself\u001b[39m\u001b[38;5;241m.\u001b[39mdefender \u001b[38;5;241m=\u001b[39m Defensive(defensive_profile, cover, obscured)\n\u001b[0;32m    158\u001b[0m     \u001b[38;5;28;01mif\u001b[39;00m \u001b[38;5;124m'\u001b[39m\u001b[38;5;124mSaturate\u001b[39m\u001b[38;5;124m'\u001b[39m \u001b[38;5;129;01min\u001b[39;00m \u001b[38;5;28mself\u001b[39m\u001b[38;5;241m.\u001b[39mattacker\u001b[38;5;241m.\u001b[39mkeywords:\n",
      "File \u001b[1;32mc:\\Users\\loic\\anaconda3\\Lib\\site-packages\\numba\\experimental\\jitclass\\base.py:124\u001b[0m, in \u001b[0;36mJitClassType.__call__\u001b[1;34m(cls, *args, **kwargs)\u001b[0m\n\u001b[0;32m    122\u001b[0m bind \u001b[38;5;241m=\u001b[39m \u001b[38;5;28mcls\u001b[39m\u001b[38;5;241m.\u001b[39m_ctor_sig\u001b[38;5;241m.\u001b[39mbind(\u001b[38;5;28;01mNone\u001b[39;00m, \u001b[38;5;241m*\u001b[39margs, \u001b[38;5;241m*\u001b[39m\u001b[38;5;241m*\u001b[39mkwargs)\n\u001b[0;32m    123\u001b[0m bind\u001b[38;5;241m.\u001b[39mapply_defaults()\n\u001b[1;32m--> 124\u001b[0m \u001b[38;5;28;01mreturn\u001b[39;00m \u001b[38;5;28mcls\u001b[39m\u001b[38;5;241m.\u001b[39m_ctor(\u001b[38;5;241m*\u001b[39mbind\u001b[38;5;241m.\u001b[39margs[\u001b[38;5;241m1\u001b[39m:], \u001b[38;5;241m*\u001b[39m\u001b[38;5;241m*\u001b[39mbind\u001b[38;5;241m.\u001b[39mkwargs)\n",
      "File \u001b[1;32mc:\\Users\\loic\\anaconda3\\Lib\\site-packages\\numba\\core\\dispatcher.py:468\u001b[0m, in \u001b[0;36m_DispatcherBase._compile_for_args\u001b[1;34m(self, *args, **kws)\u001b[0m\n\u001b[0;32m    464\u001b[0m         msg \u001b[38;5;241m=\u001b[39m (\u001b[38;5;124mf\u001b[39m\u001b[38;5;124m\"\u001b[39m\u001b[38;5;132;01m{\u001b[39;00m\u001b[38;5;28mstr\u001b[39m(e)\u001b[38;5;241m.\u001b[39mrstrip()\u001b[38;5;132;01m}\u001b[39;00m\u001b[38;5;124m \u001b[39m\u001b[38;5;130;01m\\n\u001b[39;00m\u001b[38;5;130;01m\\n\u001b[39;00m\u001b[38;5;124mThis error may have been caused \u001b[39m\u001b[38;5;124m\"\u001b[39m\n\u001b[0;32m    465\u001b[0m                \u001b[38;5;124mf\u001b[39m\u001b[38;5;124m\"\u001b[39m\u001b[38;5;124mby the following argument(s):\u001b[39m\u001b[38;5;130;01m\\n\u001b[39;00m\u001b[38;5;132;01m{\u001b[39;00margs_str\u001b[38;5;132;01m}\u001b[39;00m\u001b[38;5;130;01m\\n\u001b[39;00m\u001b[38;5;124m\"\u001b[39m)\n\u001b[0;32m    466\u001b[0m         e\u001b[38;5;241m.\u001b[39mpatch_message(msg)\n\u001b[1;32m--> 468\u001b[0m     error_rewrite(e, \u001b[38;5;124m'\u001b[39m\u001b[38;5;124mtyping\u001b[39m\u001b[38;5;124m'\u001b[39m)\n\u001b[0;32m    469\u001b[0m \u001b[38;5;28;01mexcept\u001b[39;00m errors\u001b[38;5;241m.\u001b[39mUnsupportedError \u001b[38;5;28;01mas\u001b[39;00m e:\n\u001b[0;32m    470\u001b[0m     \u001b[38;5;66;03m# Something unsupported is present in the user code, add help info\u001b[39;00m\n\u001b[0;32m    471\u001b[0m     error_rewrite(e, \u001b[38;5;124m'\u001b[39m\u001b[38;5;124munsupported_error\u001b[39m\u001b[38;5;124m'\u001b[39m)\n",
      "File \u001b[1;32mc:\\Users\\loic\\anaconda3\\Lib\\site-packages\\numba\\core\\dispatcher.py:409\u001b[0m, in \u001b[0;36m_DispatcherBase._compile_for_args.<locals>.error_rewrite\u001b[1;34m(e, issue_type)\u001b[0m\n\u001b[0;32m    407\u001b[0m     \u001b[38;5;28;01mraise\u001b[39;00m e\n\u001b[0;32m    408\u001b[0m \u001b[38;5;28;01melse\u001b[39;00m:\n\u001b[1;32m--> 409\u001b[0m     \u001b[38;5;28;01mraise\u001b[39;00m e\u001b[38;5;241m.\u001b[39mwith_traceback(\u001b[38;5;28;01mNone\u001b[39;00m)\n",
      "\u001b[1;31mTypingError\u001b[0m: Failed in nopython mode pipeline (step: nopython frontend)\n\u001b[1m\u001b[1mnon-precise type pyobject\u001b[0m\n\u001b[0m\u001b[1mDuring: typing of argument at <string> (2)\u001b[0m\n\u001b[1m\nFile \"<string>\", line 2:\u001b[0m\n\u001b[1m<source missing, REPL/exec in use?>\u001b[0m \n\nThis error may have been caused by the following argument(s):\n- argument 0: \u001b[1mCannot determine Numba type of <class 'dict'>\u001b[0m\n"
     ]
    }
   ],
   "source": [
    "for obscured in [False, True]:\n",
    "    for cover in [False, True]:\n",
    "        sim = KT24Calculator.Simulation(Gunner_Melta, DeathKorps_Trooper, cover=cover, obscured=obscured)\n",
    "        sim.attacker.keywords.add('Severe')\n",
    "        results = sim.simulation_step(200000)\n",
    "        percentage = np.array([np.sum(results == score)/len(results) for score in np.unique(results)])\n",
    "        print(f\"Cover: {cover}\\nObscured: {obscured}\\n======\")\n",
    "        for s, p in zip(np.unique(results), percentage):\n",
    "            print(f\"{s}: {p*100:.2f}\")\n",
    "\n",
    "                # results[results > sim.defender.wounds] = sim.defender.wounds"
   ]
  },
  {
   "cell_type": "code",
   "execution_count": null,
   "metadata": {},
   "outputs": [],
   "source": [
    "fig, axes = plt.subplots(len(Attackers), len(Defenders), figsize=(20,50))\n",
    "axes = np.ravel(axes)\n",
    "\n",
    "idx = 0\n",
    "\n",
    "for a in Attackers:\n",
    "    for d in Defenders:\n",
    "        for obscured in [False, True]:\n",
    "            for cover in [False, True]:\n",
    "                sim = KT24Calculator.Simulation(a, d, cover=cover, obscured=obscured)\n",
    "                results = sim.simulation_step(10000)\n",
    "                if a['opname'] == \"Aquilon Servo-Sentry\":\n",
    "                    results2 = sim.simulation_step(10000)\n",
    "                    results = results + results2\n",
    "                \n",
    "                results[results > sim.defender.wounds] = sim.defender.wounds\n",
    "\n",
    "                if not cover and not obscured:\n",
    "                    label = 'Open'\n",
    "                if cover and not obscured:\n",
    "                    label = 'Cover'\n",
    "                if not cover and obscured:\n",
    "                    label = 'Obscured'\n",
    "                if cover and obscured:\n",
    "                    label = 'Cover & Obscured'\n",
    "                axes[idx].hist(results, density=True, histtype='step', cumulative=-1, label=label)\n",
    "                percentage = np.array([np.sum(results >= score)/len(results) for score in np.unique(results)])\n",
    "                #axes[idx].plot(np.unique(results), percentage*100, 'o')\n",
    "                if not cover and not obscured:\n",
    "                    axes[idx].set_title(f\"{a['opname']}({a['wepname']}) vs {d['opname']}\\n Chance to: Kill:{np.sum(results >= sim.defender.wounds)/len(results)*100:.1f}%  Wound: {np.sum(results > sim.defender.wounds/2)/len(results)*100:.1f}%\")\n",
    "                #axes[idx].set_ylim(0,110)\n",
    "                axes[idx].legend()\n",
    "        idx += 1\n",
    "\n",
    "plt.tight_layout()"
   ]
  },
  {
   "cell_type": "code",
   "execution_count": 12,
   "metadata": {},
   "outputs": [],
   "source": [
    "sim = KT24Calculator.Simulation(Gunner_Melta, DeathKorps_Trooper, cover=False, obscured=False)"
   ]
  },
  {
   "cell_type": "code",
   "execution_count": 14,
   "metadata": {},
   "outputs": [
    {
     "ename": "TypingError",
     "evalue": "Failed in nopython mode pipeline (step: nopython frontend)\n\u001b[1m\u001b[1mnon-precise type pyobject\u001b[0m\n\u001b[0m\u001b[1mDuring: typing of argument at e:\\Documents\\Python\\KillTeam2024Calculator\\KillTeam2024Calculator\\KT24Calculator.py (25)\u001b[0m\n\u001b[1m\nFile \"KT24Calculator.py\", line 25:\u001b[0m\n\u001b[1m    def __init__(self, row):\n        <source elided>\n                self.piercing = int(keyword.split('Prc')[1])\n\u001b[1m    @njit\n\u001b[0m    \u001b[1m^\u001b[0m\u001b[0m \n\nThis error may have been caused by the following argument(s):\n- argument 0: \u001b[1mCannot determine Numba type of <class 'KT24Calculator.Offensive'>\u001b[0m\n",
     "output_type": "error",
     "traceback": [
      "\u001b[1;31m---------------------------------------------------------------------------\u001b[0m",
      "\u001b[1;31mTypingError\u001b[0m                               Traceback (most recent call last)",
      "Cell \u001b[1;32mIn[14], line 1\u001b[0m\n\u001b[1;32m----> 1\u001b[0m get_ipython()\u001b[38;5;241m.\u001b[39mrun_line_magic(\u001b[38;5;124m'\u001b[39m\u001b[38;5;124mlprun\u001b[39m\u001b[38;5;124m'\u001b[39m, \u001b[38;5;124m'\u001b[39m\u001b[38;5;124m -f sim.simulation_step sim.simulation_step(10000)\u001b[39m\u001b[38;5;124m'\u001b[39m)\n",
      "File \u001b[1;32mc:\\Users\\loic\\anaconda3\\Lib\\site-packages\\IPython\\core\\interactiveshell.py:2456\u001b[0m, in \u001b[0;36mInteractiveShell.run_line_magic\u001b[1;34m(self, magic_name, line, _stack_depth)\u001b[0m\n\u001b[0;32m   2454\u001b[0m     kwargs[\u001b[38;5;124m'\u001b[39m\u001b[38;5;124mlocal_ns\u001b[39m\u001b[38;5;124m'\u001b[39m] \u001b[38;5;241m=\u001b[39m \u001b[38;5;28mself\u001b[39m\u001b[38;5;241m.\u001b[39mget_local_scope(stack_depth)\n\u001b[0;32m   2455\u001b[0m \u001b[38;5;28;01mwith\u001b[39;00m \u001b[38;5;28mself\u001b[39m\u001b[38;5;241m.\u001b[39mbuiltin_trap:\n\u001b[1;32m-> 2456\u001b[0m     result \u001b[38;5;241m=\u001b[39m fn(\u001b[38;5;241m*\u001b[39margs, \u001b[38;5;241m*\u001b[39m\u001b[38;5;241m*\u001b[39mkwargs)\n\u001b[0;32m   2458\u001b[0m \u001b[38;5;66;03m# The code below prevents the output from being displayed\u001b[39;00m\n\u001b[0;32m   2459\u001b[0m \u001b[38;5;66;03m# when using magics with decorator @output_can_be_silenced\u001b[39;00m\n\u001b[0;32m   2460\u001b[0m \u001b[38;5;66;03m# when the last Python token in the expression is a ';'.\u001b[39;00m\n\u001b[0;32m   2461\u001b[0m \u001b[38;5;28;01mif\u001b[39;00m \u001b[38;5;28mgetattr\u001b[39m(fn, magic\u001b[38;5;241m.\u001b[39mMAGIC_OUTPUT_CAN_BE_SILENCED, \u001b[38;5;28;01mFalse\u001b[39;00m):\n",
      "File \u001b[1;32mc:\\Users\\loic\\anaconda3\\Lib\\site-packages\\line_profiler\\ipython_extension.py:130\u001b[0m, in \u001b[0;36mLineProfilerMagics.lprun\u001b[1;34m(self, parameter_s)\u001b[0m\n\u001b[0;32m    128\u001b[0m \u001b[38;5;28;01mtry\u001b[39;00m:\n\u001b[0;32m    129\u001b[0m     \u001b[38;5;28;01mtry\u001b[39;00m:\n\u001b[1;32m--> 130\u001b[0m         profile\u001b[38;5;241m.\u001b[39mrunctx(arg_str, global_ns, local_ns)\n\u001b[0;32m    131\u001b[0m         message \u001b[38;5;241m=\u001b[39m \u001b[38;5;124m\"\u001b[39m\u001b[38;5;124m\"\u001b[39m\n\u001b[0;32m    132\u001b[0m     \u001b[38;5;28;01mexcept\u001b[39;00m \u001b[38;5;167;01mSystemExit\u001b[39;00m:\n",
      "File \u001b[1;32mc:\\Users\\loic\\anaconda3\\Lib\\site-packages\\line_profiler\\line_profiler.py:185\u001b[0m, in \u001b[0;36mLineProfiler.runctx\u001b[1;34m(self, cmd, globals, locals)\u001b[0m\n\u001b[0;32m    183\u001b[0m \u001b[38;5;28mself\u001b[39m\u001b[38;5;241m.\u001b[39menable_by_count()\n\u001b[0;32m    184\u001b[0m \u001b[38;5;28;01mtry\u001b[39;00m:\n\u001b[1;32m--> 185\u001b[0m     exec(cmd, \u001b[38;5;28mglobals\u001b[39m, \u001b[38;5;28mlocals\u001b[39m)\n\u001b[0;32m    186\u001b[0m \u001b[38;5;28;01mfinally\u001b[39;00m:\n\u001b[0;32m    187\u001b[0m     \u001b[38;5;28mself\u001b[39m\u001b[38;5;241m.\u001b[39mdisable_by_count()\n",
      "File \u001b[1;32m<string>:1\u001b[0m\n",
      "File \u001b[1;32me:\\Documents\\Python\\KillTeam2024Calculator\\KillTeam2024Calculator\\KT24Calculator.py:148\u001b[0m, in \u001b[0;36mSimulation.simulation_step\u001b[1;34m(self, simstep)\u001b[0m\n\u001b[0;32m    145\u001b[0m def_rolls \u001b[38;5;241m=\u001b[39m np\u001b[38;5;241m.\u001b[39mrandom\u001b[38;5;241m.\u001b[39mrandint(\u001b[38;5;241m1\u001b[39m,\u001b[38;5;241m7\u001b[39m, (simstep, \u001b[38;5;241m3\u001b[39m))\n\u001b[0;32m    147\u001b[0m \u001b[38;5;28;01mfor\u001b[39;00m atk_roll, def_roll \u001b[38;5;129;01min\u001b[39;00m \u001b[38;5;28mzip\u001b[39m(atk_rolls, def_rolls):\n\u001b[1;32m--> 148\u001b[0m     atk_success, atk_crit, _ \u001b[38;5;241m=\u001b[39m \u001b[38;5;28mself\u001b[39m\u001b[38;5;241m.\u001b[39mattacker\u001b[38;5;241m.\u001b[39mattack(atk_roll)\n\u001b[0;32m    150\u001b[0m     \u001b[38;5;28;01mif\u001b[39;00m \u001b[38;5;28mself\u001b[39m\u001b[38;5;241m.\u001b[39mdefender\u001b[38;5;241m.\u001b[39mobscured:\n\u001b[0;32m    151\u001b[0m         atk_success \u001b[38;5;241m+\u001b[39m\u001b[38;5;241m=\u001b[39m atk_crit\n",
      "File \u001b[1;32mc:\\Users\\loic\\anaconda3\\Lib\\site-packages\\numba\\core\\dispatcher.py:468\u001b[0m, in \u001b[0;36m_DispatcherBase._compile_for_args\u001b[1;34m(self, *args, **kws)\u001b[0m\n\u001b[0;32m    464\u001b[0m         msg \u001b[38;5;241m=\u001b[39m (\u001b[38;5;124mf\u001b[39m\u001b[38;5;124m\"\u001b[39m\u001b[38;5;132;01m{\u001b[39;00m\u001b[38;5;28mstr\u001b[39m(e)\u001b[38;5;241m.\u001b[39mrstrip()\u001b[38;5;132;01m}\u001b[39;00m\u001b[38;5;124m \u001b[39m\u001b[38;5;130;01m\\n\u001b[39;00m\u001b[38;5;130;01m\\n\u001b[39;00m\u001b[38;5;124mThis error may have been caused \u001b[39m\u001b[38;5;124m\"\u001b[39m\n\u001b[0;32m    465\u001b[0m                \u001b[38;5;124mf\u001b[39m\u001b[38;5;124m\"\u001b[39m\u001b[38;5;124mby the following argument(s):\u001b[39m\u001b[38;5;130;01m\\n\u001b[39;00m\u001b[38;5;132;01m{\u001b[39;00margs_str\u001b[38;5;132;01m}\u001b[39;00m\u001b[38;5;130;01m\\n\u001b[39;00m\u001b[38;5;124m\"\u001b[39m)\n\u001b[0;32m    466\u001b[0m         e\u001b[38;5;241m.\u001b[39mpatch_message(msg)\n\u001b[1;32m--> 468\u001b[0m     error_rewrite(e, \u001b[38;5;124m'\u001b[39m\u001b[38;5;124mtyping\u001b[39m\u001b[38;5;124m'\u001b[39m)\n\u001b[0;32m    469\u001b[0m \u001b[38;5;28;01mexcept\u001b[39;00m errors\u001b[38;5;241m.\u001b[39mUnsupportedError \u001b[38;5;28;01mas\u001b[39;00m e:\n\u001b[0;32m    470\u001b[0m     \u001b[38;5;66;03m# Something unsupported is present in the user code, add help info\u001b[39;00m\n\u001b[0;32m    471\u001b[0m     error_rewrite(e, \u001b[38;5;124m'\u001b[39m\u001b[38;5;124munsupported_error\u001b[39m\u001b[38;5;124m'\u001b[39m)\n",
      "File \u001b[1;32mc:\\Users\\loic\\anaconda3\\Lib\\site-packages\\numba\\core\\dispatcher.py:409\u001b[0m, in \u001b[0;36m_DispatcherBase._compile_for_args.<locals>.error_rewrite\u001b[1;34m(e, issue_type)\u001b[0m\n\u001b[0;32m    407\u001b[0m     \u001b[38;5;28;01mraise\u001b[39;00m e\n\u001b[0;32m    408\u001b[0m \u001b[38;5;28;01melse\u001b[39;00m:\n\u001b[1;32m--> 409\u001b[0m     \u001b[38;5;28;01mraise\u001b[39;00m e\u001b[38;5;241m.\u001b[39mwith_traceback(\u001b[38;5;28;01mNone\u001b[39;00m)\n",
      "\u001b[1;31mTypingError\u001b[0m: Failed in nopython mode pipeline (step: nopython frontend)\n\u001b[1m\u001b[1mnon-precise type pyobject\u001b[0m\n\u001b[0m\u001b[1mDuring: typing of argument at e:\\Documents\\Python\\KillTeam2024Calculator\\KillTeam2024Calculator\\KT24Calculator.py (25)\u001b[0m\n\u001b[1m\nFile \"KT24Calculator.py\", line 25:\u001b[0m\n\u001b[1m    def __init__(self, row):\n        <source elided>\n                self.piercing = int(keyword.split('Prc')[1])\n\u001b[1m    @njit\n\u001b[0m    \u001b[1m^\u001b[0m\u001b[0m \n\nThis error may have been caused by the following argument(s):\n- argument 0: \u001b[1mCannot determine Numba type of <class 'KT24Calculator.Offensive'>\u001b[0m\n"
     ]
    }
   ],
   "source": [
    "%lprun  -f sim.simulation_step sim.simulation_step(10000)"
   ]
  },
  {
   "cell_type": "code",
   "execution_count": 11,
   "metadata": {},
   "outputs": [],
   "source": [
    "atk_rolls = np.random.randint(1,7, (100,4))"
   ]
  },
  {
   "cell_type": "code",
   "execution_count": 35,
   "metadata": {},
   "outputs": [],
   "source": [
    "crit = np.zeros(np.shape(atk_rolls)[0])\n",
    "success = np.zeros(np.shape(atk_rolls)[0])\n"
   ]
  },
  {
   "cell_type": "code",
   "execution_count": 36,
   "metadata": {},
   "outputs": [],
   "source": [
    "crit += 1"
   ]
  },
  {
   "cell_type": "code",
   "execution_count": 37,
   "metadata": {},
   "outputs": [],
   "source": [
    "crit[10] = 0 "
   ]
  },
  {
   "cell_type": "code",
   "execution_count": 38,
   "metadata": {},
   "outputs": [],
   "source": [
    "success[10] = 1\n",
    "success[15] = 1\n"
   ]
  },
  {
   "cell_type": "code",
   "execution_count": 39,
   "metadata": {},
   "outputs": [
    {
     "data": {
      "text/plain": [
       "(array([10], dtype=int64),)"
      ]
     },
     "execution_count": 39,
     "metadata": {},
     "output_type": "execute_result"
    }
   ],
   "source": [
    "np.where(crit == 0) "
   ]
  },
  {
   "cell_type": "code",
   "execution_count": 42,
   "metadata": {},
   "outputs": [
    {
     "data": {
      "text/plain": [
       "(array([10], dtype=int64),)"
      ]
     },
     "execution_count": 42,
     "metadata": {},
     "output_type": "execute_result"
    }
   ],
   "source": [
    "np.where(np.logical_and((crit == 0), (success >= 1)))"
   ]
  },
  {
   "cell_type": "code",
   "execution_count": 41,
   "metadata": {},
   "outputs": [
    {
     "data": {
      "text/plain": [
       "(array([10, 15], dtype=int64),)"
      ]
     },
     "execution_count": 41,
     "metadata": {},
     "output_type": "execute_result"
    }
   ],
   "source": [
    "np.where(success >= 1)"
   ]
  },
  {
   "cell_type": "code",
   "execution_count": null,
   "metadata": {},
   "outputs": [],
   "source": []
  }
 ],
 "metadata": {
  "kernelspec": {
   "display_name": "base",
   "language": "python",
   "name": "python3"
  },
  "language_info": {
   "codemirror_mode": {
    "name": "ipython",
    "version": 3
   },
   "file_extension": ".py",
   "mimetype": "text/x-python",
   "name": "python",
   "nbconvert_exporter": "python",
   "pygments_lexer": "ipython3",
   "version": "3.11.7"
  }
 },
 "nbformat": 4,
 "nbformat_minor": 2
}
