{
 "cells": [
  {
   "cell_type": "code",
   "execution_count": 1,
   "metadata": {},
   "outputs": [],
   "source": [
    "import KT24Calculator\n",
    "import requests\n",
    "import numpy as np\n",
    "import matplotlib.pyplot as plt\n",
    "import polars as pl\n",
    "%load_ext line_profiler"
   ]
  },
  {
   "cell_type": "code",
   "execution_count": 2,
   "metadata": {},
   "outputs": [],
   "source": [
    "req = requests.get('https://ktdash.app/api/killteam.php?edition=kt24')"
   ]
  },
  {
   "cell_type": "code",
   "execution_count": 3,
   "metadata": {},
   "outputs": [],
   "source": [
    "operativesrows = []\n",
    "\n",
    "for killteam in req.json():\n",
    "    for fireteam in killteam['fireteams']:\n",
    "        factionid = fireteam['factionid']\n",
    "        if factionid == \"HBR\":\n",
    "            continue\n",
    "        killteamid = fireteam['fireteamid']\n",
    "        killteamname = fireteam['fireteamname']\n",
    "        for op in fireteam['operatives']:\n",
    "            opid = op['opid']\n",
    "            opname = op['opname']\n",
    "            m = op['M'].replace('\"', '')\n",
    "            apl = op['APL']\n",
    "            sv = op['SV'].replace('+', '')\n",
    "            w = op['W']\n",
    "            keywords = op['keywords'].split(' , ')\n",
    "            for weapon in op['weapons']:\n",
    "                for profile in weapon['profiles']:\n",
    "                    wepid = weapon['wepid']\n",
    "                    wepname = weapon['wepname']\n",
    "                    weptype = weapon['weptype']\n",
    "                    if profile['name'] != '':\n",
    "                        wepname = wepname + ' (' + profile['name'] + ')'\n",
    "                    A = profile['A']\n",
    "                    BS = profile['BS'].replace('+', '')\n",
    "                    D, Dcrit = profile['D'].split('/')\n",
    "                    SR = profile['SR'].split(', ')\n",
    "                    operativesrows.append([factionid, killteamid, killteamname, opid, opname, m, apl, sv, w, keywords, wepid, wepname, weptype, A, BS, D, Dcrit, SR])"
   ]
  },
  {
   "cell_type": "code",
   "execution_count": 4,
   "metadata": {},
   "outputs": [],
   "source": [
    "schema = {'factionid':str, 'killteamid':str,'killteamname': str, 'opid':str, 'opname': str, 'M':pl.Int8, 'APL': pl.Int8, 'SV': pl.Int8, 'W': pl.Int8, 'keywords': list[str] ,'wepid':str, 'wepid': str, 'wepname': str, 'weptype': str, 'A': pl.Int8, 'BS': pl.Int8, 'D': pl.Int8, 'DCrit': pl.Int8, 'SR': list[str]}\n",
    "operatives = pl.DataFrame(operativesrows, orient='row', schema=schema)"
   ]
  },
  {
   "cell_type": "code",
   "execution_count": 5,
   "metadata": {},
   "outputs": [],
   "source": [
    "Tempestor_RelicBoltPistol = operatives.filter(killteamname=\"Tempestus Aquilon\", opname=\"Aquilon Tempestor\", wepname='Relic Bolt Pistol').row(0, named=True)\n",
    "Grenadier_MeltaBomb = operatives.filter(killteamname=\"Tempestus Aquilon\", opname=\"Aquilon Grenadier\", wepname='Melta Bomb').row(0, named=True)\n",
    "Gunfighter_Focused = operatives.filter(killteamname=\"Tempestus Aquilon\", opname=\"Aquilon Gunfighter\", wepname='Hot-Shot Laspistol (Focused)').row(0, named=True)\n",
    "Gunfighter_PointBlank =  operatives.filter(killteamname=\"Tempestus Aquilon\", opname=\"Aquilon Gunfighter\", wepname='Hot-Shot Laspistol (Point Blank)').row(0, named=True)\n",
    "Gunner_Melta =  operatives.filter(killteamname=\"Tempestus Aquilon\", opname=\"Aquilon Gunner\", wepname='Melta Carbine').row(0, named=True)\n",
    "Gunner_Plasma =  operatives.filter(killteamname=\"Tempestus Aquilon\", opname=\"Aquilon Gunner\", wepname='Plasma Carbine (Standard)').row(0, named=True)\n",
    "Gunner_PlasmaSuper =  operatives.filter(killteamname=\"Tempestus Aquilon\", opname=\"Aquilon Gunner\", wepname='Plasma Carbine (Supercharge)').row(0, named=True)\n",
    "Marksman_Stationary =  operatives.filter(killteamname=\"Tempestus Aquilon\", opname=\"Aquilon Marksman\", wepname='Hot-Shot Longlas (Stationary)').row(0, named=True)\n",
    "Marksman_Mobile =  operatives.filter(killteamname=\"Tempestus Aquilon\", opname=\"Aquilon Marksman\", wepname='Hot-Shot Longlas (Mobile)').row(0, named=True)\n",
    "Precursor_Mobile =  operatives.filter(killteamname=\"Tempestus Aquilon\", opname=\"Aquilon Precursor\", wepname='Hot-Shot Laspistol').row(0, named=True)\n",
    "Sentry_Flamer =  operatives.filter(killteamname=\"Tempestus Aquilon\", opname=\"Aquilon Servo-Sentry\", wepname='Flamer').row(0, named=True)\n",
    "Sentry_Frag =  operatives.filter(killteamname=\"Tempestus Aquilon\", opname=\"Aquilon Servo-Sentry\", wepname='Grenade Launcher (Frag)').row(0, named=True)\n",
    "Sentry_Krak =  operatives.filter(killteamname=\"Tempestus Aquilon\", opname=\"Aquilon Servo-Sentry\", wepname='Grenade Launcher (Krak)').row(0, named=True)\n",
    "Sentry_Focused =  operatives.filter(killteamname=\"Tempestus Aquilon\", opname=\"Aquilon Servo-Sentry\", wepname='Hot-Shot Volley Gun (Focused)').row(0, named=True)\n",
    "Sentry_sweeping =  operatives.filter(killteamname=\"Tempestus Aquilon\", opname=\"Aquilon Servo-Sentry\", wepname='Hot-Shot Volley Gun (Sweeping)').row(0, named=True)\n",
    "Trooper_Carbine =  operatives.filter(killteamname=\"Tempestus Aquilon\", opname=\"Aquilon Trooper\", wepname='Hot-Shot Lascarbine').row(0, named=True)\n",
    "\n",
    "Attackers = [Tempestor_RelicBoltPistol, Grenadier_MeltaBomb, Gunfighter_Focused, Gunfighter_PointBlank, Gunner_Melta, Gunner_Plasma, Gunner_PlasmaSuper, Marksman_Stationary, Marksman_Mobile, Precursor_Mobile, Sentry_Flamer, Sentry_Frag, Sentry_Krak, Sentry_Focused, Sentry_sweeping, Trooper_Carbine]"
   ]
  },
  {
   "cell_type": "code",
   "execution_count": 6,
   "metadata": {},
   "outputs": [],
   "source": [
    "SM_warrior =  operatives.filter(killteamname=\"Angels Of Death\", opname=\"Intercessor Warrior\", wepname='Bolt Rifle').row(0, named=True)\n",
    "Trooper_Carbine =  operatives.filter(killteamname=\"Tempestus Aquilon\", opname=\"Aquilon Trooper\", wepname='Hot-Shot Lascarbine').row(0, named=True)\n",
    "DeathKorps_Trooper =  operatives.filter(killteamname=\"Death Korps\", opname=\"Death Korps Trooper\", wepname='Lasgun').row(0, named=True)\n",
    "\n",
    "Defenders = [SM_warrior, Trooper_Carbine, DeathKorps_Trooper]"
   ]
  },
  {
   "cell_type": "code",
   "execution_count": 15,
   "metadata": {},
   "outputs": [
    {
     "name": "stdout",
     "output_type": "stream",
     "text": [
      "Cover: False\n",
      "Obscured: False\n",
      "======\n",
      "0: 1.22\n",
      "4: 1.63\n",
      "7: 17.38\n",
      "11: 0.32\n",
      "13: 29.71\n",
      "14: 3.46\n",
      "18: 0.10\n",
      "19: 27.03\n",
      "20: 5.09\n",
      "21: 0.84\n",
      "25: 9.84\n",
      "26: 2.72\n",
      "27: 0.60\n",
      "28: 0.06\n",
      "Cover: True\n",
      "Obscured: False\n",
      "======\n",
      "0: 1.26\n",
      "7: 37.48\n",
      "13: 33.55\n",
      "14: 7.33\n",
      "19: 14.60\n",
      "20: 4.17\n",
      "21: 1.53\n",
      "28: 0.09\n",
      "Cover: False\n",
      "Obscured: True\n",
      "======\n",
      "0: 4.64\n",
      "6: 16.52\n",
      "12: 32.96\n",
      "18: 32.82\n",
      "24: 13.06\n",
      "Cover: True\n",
      "Obscured: True\n",
      "======\n",
      "0: 11.03\n",
      "6: 29.57\n",
      "12: 39.46\n",
      "18: 19.94\n"
     ]
    }
   ],
   "source": [
    "for obscured in [False, True]:\n",
    "    for cover in [False, True]:\n",
    "        sim = KT24Calculator.Simulation(Gunner_Melta, DeathKorps_Trooper, cover=cover, obscured=obscured)\n",
    "        sim.attacker.keywords.add('Severe')\n",
    "        results = sim.simulation_step(200000)\n",
    "        percentage = np.array([np.sum(results == score)/len(results) for score in np.unique(results)])\n",
    "        print(f\"Cover: {cover}\\nObscured: {obscured}\\n======\")\n",
    "        for s, p in zip(np.unique(results), percentage):\n",
    "            print(f\"{s}: {p*100:.2f}\")\n",
    "\n",
    "                # results[results > sim.defender.wounds] = sim.defender.wounds"
   ]
  },
  {
   "cell_type": "code",
   "execution_count": null,
   "metadata": {},
   "outputs": [],
   "source": [
    "fig, axes = plt.subplots(len(Attackers), len(Defenders), figsize=(20,50))\n",
    "axes = np.ravel(axes)\n",
    "\n",
    "idx = 0\n",
    "\n",
    "for a in Attackers:\n",
    "    for d in Defenders:\n",
    "        for obscured in [False, True]:\n",
    "            for cover in [False, True]:\n",
    "                sim = KT24Calculator.Simulation(a, d, cover=cover, obscured=obscured)\n",
    "                results = sim.simulation_step(10000)\n",
    "                if a['opname'] == \"Aquilon Servo-Sentry\":\n",
    "                    results2 = sim.simulation_step(10000)\n",
    "                    results = results + results2\n",
    "                \n",
    "                results[results > sim.defender.wounds] = sim.defender.wounds\n",
    "\n",
    "                if not cover and not obscured:\n",
    "                    label = 'Open'\n",
    "                if cover and not obscured:\n",
    "                    label = 'Cover'\n",
    "                if not cover and obscured:\n",
    "                    label = 'Obscured'\n",
    "                if cover and obscured:\n",
    "                    label = 'Cover & Obscured'\n",
    "                axes[idx].hist(results, density=True, histtype='step', cumulative=-1, label=label)\n",
    "                percentage = np.array([np.sum(results >= score)/len(results) for score in np.unique(results)])\n",
    "                #axes[idx].plot(np.unique(results), percentage*100, 'o')\n",
    "                if not cover and not obscured:\n",
    "                    axes[idx].set_title(f\"{a['opname']}({a['wepname']}) vs {d['opname']}\\n Chance to: Kill:{np.sum(results >= sim.defender.wounds)/len(results)*100:.1f}%  Wound: {np.sum(results > sim.defender.wounds/2)/len(results)*100:.1f}%\")\n",
    "                #axes[idx].set_ylim(0,110)\n",
    "                axes[idx].legend()\n",
    "        idx += 1\n",
    "\n",
    "plt.tight_layout()"
   ]
  },
  {
   "cell_type": "code",
   "execution_count": null,
   "metadata": {},
   "outputs": [],
   "source": []
  }
 ],
 "metadata": {
  "kernelspec": {
   "display_name": "base",
   "language": "python",
   "name": "python3"
  },
  "language_info": {
   "codemirror_mode": {
    "name": "ipython",
    "version": 3
   },
   "file_extension": ".py",
   "mimetype": "text/x-python",
   "name": "python",
   "nbconvert_exporter": "python",
   "pygments_lexer": "ipython3",
   "version": "3.11.7"
  }
 },
 "nbformat": 4,
 "nbformat_minor": 2
}
